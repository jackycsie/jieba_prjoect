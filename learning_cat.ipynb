{
 "cells": [
  {
   "cell_type": "code",
   "execution_count": 26,
   "metadata": {
    "ExecuteTime": {
     "end_time": "2019-02-12T01:11:33.188917Z",
     "start_time": "2019-02-12T01:11:33.179309Z"
    },
    "collapsed": true
   },
   "outputs": [],
   "source": [
    "# 把一些警告的訊息暫時関掉\n",
    "import warnings\n",
    "warnings.filterwarnings('ignore')\n",
    "\n",
    "# Utilities相關函式庫\n",
    "import os\n",
    "import numpy as np\n",
    "import codecs\n",
    "\n",
    "# 使用\"結巴(jieba)來進行分析\n",
    "import jieba.analyse\n",
    "\n",
    "# 圖像處理/展現的相關函式庫\n",
    "import matplotlib.pyplot as plt\n",
    "from wordcloud import WordCloud"
   ]
  },
  {
   "cell_type": "code",
   "execution_count": 27,
   "metadata": {
    "ExecuteTime": {
     "end_time": "2019-02-12T01:11:35.708409Z",
     "start_time": "2019-02-12T01:11:35.698277Z"
    },
    "collapsed": true
   },
   "outputs": [],
   "source": [
    "# 專案的根目錄路徑\n",
    "ROOT_DIR = os.getcwd()\n",
    "\n",
    "# 訓練/驗證用的資料目錄\n",
    "DATASET_PATH = os.path.join(ROOT_DIR, \"dataset\")\n",
    "\n",
    "# 模型資料目錄\n",
    "MODEL_PATH = os.path.join(ROOT_DIR, \"model\")\n",
    "JIEBA_DICTFILE_PATH = os.path.join(MODEL_PATH,\"extra_dict\", \"dict.txt.big\")\n",
    "\n",
    "# 中文字型目錄\n",
    "FONT_PATH = os.path.join(ROOT_DIR, \"fonts\")\n",
    "FONT_FILE_PATH = os.path.join(FONT_PATH, \"NotoSansCJKtc-Black.otf\")"
   ]
  },
  {
   "cell_type": "code",
   "execution_count": 31,
   "metadata": {
    "ExecuteTime": {
     "end_time": "2019-02-12T01:12:42.148361Z",
     "start_time": "2019-02-12T01:12:40.831790Z"
    }
   },
   "outputs": [
    {
     "name": "stderr",
     "output_type": "stream",
     "text": [
      "Building prefix dict from /home/letitgo/jacky/lyrics_application/model/extra_dict/dict.txt.big ...\n",
      "Loading model from cache /tmp/jieba.u112558f732abb287cd7d8addb556a737.cache\n",
      "Loading model cost 1.282 seconds.\n",
      "Prefix dict has been built succesfully.\n"
     ]
    },
    {
     "name": "stdout",
     "output_type": "stream",
     "text": [
      "我們,7152\n",
      "貓叫,7152\n",
      "一起,6246\n",
      "撒個,4087\n",
      "心臟,4087\n",
      "愛我,4087\n",
      "砰砰,3491\n",
      "迷戀,3065\n",
      "我要,3065\n",
      "變成,3065\n",
      "的貓,3065\n",
      "賴在,3065\n",
      "懷裡,3065\n",
      "貪戀,3065\n",
      "想要,2953\n",
      "外套,2361\n",
      "有時候,2043\n",
      "脾氣,2043\n",
      "張牙舞爪,2043\n",
      "總是,2043\n",
      "溫柔,2043\n",
      "當你,2043\n",
      "小貓貓,2043\n",
      "每天,1988\n",
      "面前,1882\n",
      "味道,1880\n",
      "融化,1435\n",
      "身上,1359\n",
      "戀上你,1021\n",
      "擁抱,1021\n",
      "好時,1021\n",
      "每分,951\n",
      "迷你,852\n",
      "女主角,832\n",
      "每秒,768\n",
      "珍惜,743\n",
      "不好,484\n",
      "需要,371\n",
      "重要,342\n",
      "知道,339\n",
      "就是,307\n"
     ]
    }
   ],
   "source": [
    "# 設定繁體中文字典\n",
    "jieba.set_dictionary(JIEBA_DICTFILE_PATH)\n",
    "\n",
    "# 將\"乾杯\"這首歌的關鍵字詞取出來 \n",
    "# topK代表要取的前幾大的關鍵字 \n",
    "\n",
    "song_lyrics = os.path.join(DATASET_PATH, \"cat.txt\")\n",
    "\n",
    "with open(song_lyrics, \"rb\") as f:\n",
    "    for line in f:\n",
    "        tags = jieba.analyse.extract_tags(line,topK=100, withWeight=True)\n",
    "        for tag, weight in tags:\n",
    "            print(tag + \",\" + str(int(weight * 10000)))"
   ]
  },
  {
   "cell_type": "code",
   "execution_count": 29,
   "metadata": {
    "ExecuteTime": {
     "end_time": "2019-02-12T01:11:46.252655Z",
     "start_time": "2019-02-12T01:11:46.229868Z"
    },
    "scrolled": true
   },
   "outputs": [
    {
     "name": "stdout",
     "output_type": "stream",
     "text": [
      "原歌詞(未斷詞):\n",
      "我們一起學貓叫 一起喵喵喵喵喵 在你面前撒個嬌 哎呦喵喵喵喵喵 我的心臟砰砰跳 迷你戀上你的壞笑 你不說愛我我就喵喵喵 每天都需要你的擁抱 珍惜在一起的每分每秒 你對我多重要 我想你比我更知道 你就是我的女主角 有時候我懶的像隻貓 脾氣 好時又張牙舞爪 你總是溫柔的 能把我的心融化掉 我想要當你的小貓貓  我們一起學貓叫 一起喵喵喵喵喵 在你面前撒個嬌 哎呦喵喵喵喵喵 我的心臟砰砰跳 迷戀上你的壞笑 你不說愛我我就喵喵喵  我們一起學貓叫 一起喵喵喵喵喵 我要穿你的外套  你身上的味道 想要變成你的貓 賴在你懷裡睡著 每天都貪戀著你的好  有時候我懶的像隻貓 脾氣不好時又張牙舞爪 你總是溫柔的 能把我的心融化掉 我想要當你的小貓貓 我們一起學貓叫 一起喵喵喵喵喵 在你面前撒個嬌 哎呦喵喵喵喵喵 我的心臟砰砰跳 迷戀上你的壞笑 你不說愛我我就喵喵喵 我們一起學貓叫 一起喵喵喵喵喵 我要穿你的外套 聞你身上的味道 想要變成你的貓 賴在你懷裡睡著 每天都貪戀著你的好 我們一起學貓叫 一起喵喵喵喵喵 在你面前撒個嬌 哎呦喵喵喵喵喵 我的心臟砰砰跳 迷戀上你的壞笑 你不說愛我我就喵喵喵 我們一起學貓叫 一起喵喵喵喵喵 我要穿你的外套 聞你身上的味道 想要變成你的貓 賴在你懷裡睡著 每天都貪戀著你的好\n",
      "\n",
      "--------------------------------------------------------------------------------------------------------------------\n",
      "原歌詞(有斷詞):\n",
      "我們 一起 學 貓叫   一起 喵 喵 喵 喵 喵   在 你 面前 撒個 嬌   哎 呦 喵 喵 喵 喵 喵   我 的 心臟 砰砰 跳   迷你 戀上你 的 壞 笑   你 不 說 愛我 我 就 喵 喵 喵   每天 都 需要 你 的 擁抱   珍惜 在 一起 的 每分 每秒   你 對 我 多 重要   我 想 你 比 我 更 知道   你 就是 我 的 女主角   有時候 我 懶 的 像 隻 貓   脾氣   好時 又 張牙舞爪   你 總是 溫柔 的   能 把 我 的 心 融化 掉   我 想要 當你 的 小貓貓     我們 一起 學 貓叫   一起 喵 喵 喵 喵 喵   在 你 面前 撒個 嬌   哎 呦 喵 喵 喵 喵 喵   我 的 心臟 砰砰 跳   迷戀 上 你 的 壞 笑   你 不 說 愛我 我 就 喵 喵 喵     我們 一起 學 貓叫   一起 喵 喵 喵 喵 喵   我要 穿 你 的 外套     你 身上 的 味道   想要 變成 你 的貓   賴在 你 懷裡 睡 著   每天 都 貪戀 著 你 的 好     有時候 我 懶 的 像 隻 貓   脾氣 不好 時 又 張牙舞爪   你 總是 溫柔 的   能 把 我 的 心 融化 掉   我 想要 當你 的 小貓貓   我們 一起 學 貓叫   一起 喵 喵 喵 喵 喵   在 你 面前 撒個 嬌   哎 呦 喵 喵 喵 喵 喵   我 的 心臟 砰砰 跳   迷戀 上 你 的 壞 笑   你 不 說 愛我 我 就 喵 喵 喵   我們 一起 學 貓叫   一起 喵 喵 喵 喵 喵   我要 穿 你 的 外套   聞 你 身上 的 味道   想要 變成 你 的貓   賴在 你 懷裡 睡 著   每天 都 貪戀 著 你 的 好   我們 一起 學 貓叫   一起 喵 喵 喵 喵 喵   在 你 面前 撒個 嬌   哎 呦 喵 喵 喵 喵 喵   我 的 心臟 砰砰 跳   迷戀 上 你 的 壞 笑   你 不 說 愛我 我 就 喵 喵 喵   我們 一起 學 貓叫   一起 喵 喵 喵 喵 喵   我要 穿 你 的 外套   聞 你 身上 的 味道   想要 變成 你 的貓   賴在 你 懷裡 睡 著   每天 都 貪戀 著 你 的 好 \n",
      "\n"
     ]
    }
   ],
   "source": [
    "with open(\"dataset/cat.txt\", \"r\") as wf:\n",
    "    for word in wf:\n",
    "        words = jieba.cut(word)\n",
    "        print(\"原歌詞(未斷詞):\")\n",
    "        print(word)\n",
    "        print(\"--------------------------------------------------------------------------------------------------------------------\")\n",
    "        print(\"原歌詞(有斷詞):\")\n",
    "        print(\" \".join(words))"
   ]
  },
  {
   "cell_type": "code",
   "execution_count": 32,
   "metadata": {
    "ExecuteTime": {
     "end_time": "2019-02-12T01:13:01.918881Z",
     "start_time": "2019-02-12T01:13:01.900820Z"
    },
    "collapsed": true
   },
   "outputs": [],
   "source": [
    "# 演唱會歌單出現的 33 首歌詞\n",
    "all_songs_lyrics = os.path.join(DATASET_PATH, \"cat.txt\")\n",
    "\n",
    "#每首歌的前10大tags的集合\n",
    "all_songs_top10_tags = [] \n",
    "\n",
    "with open(all_songs_lyrics, \"r\", encoding='utf8') as f1:\n",
    "    for line in f1:\n",
    "        words = jieba.analyse.extract_tags(line,10) #取10個tags\n",
    "        all_songs_top10_tags.extend(words) # 把tags存放起來\n",
    "f1.close()\n",
    "\n",
    "# 串接所有歌的前10大tags成一長字串\n",
    "all_songs_top10_tags_text = \" \".join(all_songs_top10_tags)"
   ]
  },
  {
   "cell_type": "code",
   "execution_count": 33,
   "metadata": {
    "ExecuteTime": {
     "end_time": "2019-02-12T01:13:07.932091Z",
     "start_time": "2019-02-12T01:13:07.665314Z"
    }
   },
   "outputs": [
    {
     "data": {
      "image/png": "[encoded data removed]",
      "text/plain": [
       "<Figure size 432x288 with 1 Axes>"
      ]
     },
     "metadata": {},
     "output_type": "display_data"
    },
    {
     "data": {
      "text/plain": [
       "<Figure size 1000x600 with 0 Axes>"
      ]
     },
     "metadata": {},
     "output_type": "display_data"
    }
   ],
   "source": [
    "# 產生文字雲\n",
    "wc = WordCloud(font_path=\"fonts/NotoSansCJKtc-Black.otf\", #設置字體\n",
    "               background_color=\"black\", #背景顏色\n",
    "               max_words = 2000 ,        #文字雲顯示最大詞數\n",
    "               stopwords=stopwords)      #停用字詞\n",
    "\n",
    "wc.generate(all_songs_top10_tags_text)\n",
    "\n",
    "# 視覺化呈現\n",
    "plt.imshow(wc)\n",
    "plt.axis(\"off\")\n",
    "plt.figure(figsize=(10,6), dpi = 100)\n",
    "plt.show()"
   ]
  },
  {
   "cell_type": "code",
   "execution_count": 37,
   "metadata": {
    "ExecuteTime": {
     "end_time": "2019-02-12T01:21:45.405534Z",
     "start_time": "2019-02-12T01:21:45.387573Z"
    }
   },
   "outputs": [
    {
     "name": "stdout",
     "output_type": "stream",
     "text": [
      "精確模式: 我們/ 一起/ 學/ 貓叫/  / 一起/ 喵/ 喵/ 喵/ 喵/ 喵/  / 在/ 你/ 面前/ 撒個/ 嬌/  / 哎/ 呦/ 喵/ 喵/ 喵/ 喵/ 喵/  / 我/ 的/ 心臟/ 砰砰/ 跳/  / 迷你/ 戀上你/ 的/ 壞/ 笑/  / 你/ 不/ 說/ 愛我/ 我/ 就/ 喵/ 喵/ 喵/  / 每天/ 都/ 需要/ 你/ 的/ 擁抱/  / 珍惜/ 在/ 一起/ 的/ 每分/ 每秒/  / 你/ 對/ 我/ 多/ 重要/  / 我/ 想/ 你/ 比/ 我/ 更/ 知道/  / 你/ 就是/ 我/ 的/ 女主角/  / 有時候/ 我/ 懶/ 的/ 像/ 隻/ 貓/  / 脾氣/  / 好時/ 又/ 張牙舞爪/  / 你/ 總是/ 溫柔/ 的/  / 能/ 把/ 我/ 的/ 心/ 融化/ 掉/  / 我/ 想要/ 當你/ 的/ 小貓貓/  /  / 我們/ 一起/ 學/ 貓叫/  / 一起/ 喵/ 喵/ 喵/ 喵/ 喵/  / 在/ 你/ 面前/ 撒個/ 嬌/  / 哎/ 呦/ 喵/ 喵/ 喵/ 喵/ 喵/  / 我/ 的/ 心臟/ 砰砰/ 跳/  / 迷戀/ 上/ 你/ 的/ 壞/ 笑/  / 你/ 不/ 說/ 愛我/ 我/ 就/ 喵/ 喵/ 喵/  /  / 我們/ 一起/ 學/ 貓叫/  / 一起/ 喵/ 喵/ 喵/ 喵/ 喵/  / 我要/ 穿/ 你/ 的/ 外套/  /  / 你/ 身上/ 的/ 味道/  / 想要/ 變成/ 你/ 的貓/  / 賴在/ 你/ 懷裡/ 睡/ 著/  / 每天/ 都/ 貪戀/ 著/ 你/ 的/ 好/  /  / 有時候/ 我/ 懶/ 的/ 像/ 隻/ 貓/  / 脾氣/ 不好/ 時/ 又/ 張牙舞爪/  / 你/ 總是/ 溫柔/ 的/  / 能/ 把/ 我/ 的/ 心/ 融化/ 掉/  / 我/ 想要/ 當你/ 的/ 小貓貓/  / 我們/ 一起/ 學/ 貓叫/  / 一起/ 喵/ 喵/ 喵/ 喵/ 喵/  / 在/ 你/ 面前/ 撒個/ 嬌/  / 哎/ 呦/ 喵/ 喵/ 喵/ 喵/ 喵/  / 我/ 的/ 心臟/ 砰砰/ 跳/  / 迷戀/ 上/ 你/ 的/ 壞/ 笑/  / 你/ 不/ 說/ 愛我/ 我/ 就/ 喵/ 喵/ 喵/  / 我們/ 一起/ 學/ 貓叫/  / 一起/ 喵/ 喵/ 喵/ 喵/ 喵/  / 我要/ 穿/ 你/ 的/ 外套/  / 聞/ 你/ 身上/ 的/ 味道/  / 想要/ 變成/ 你/ 的貓/  / 賴在/ 你/ 懷裡/ 睡/ 著/  / 每天/ 都/ 貪戀/ 著/ 你/ 的/ 好/  / 我們/ 一起/ 學/ 貓叫/  / 一起/ 喵/ 喵/ 喵/ 喵/ 喵/  / 在/ 你/ 面前/ 撒個/ 嬌/  / 哎/ 呦/ 喵/ 喵/ 喵/ 喵/ 喵/  / 我/ 的/ 心臟/ 砰砰/ 跳/  / 迷戀/ 上/ 你/ 的/ 壞/ 笑/  / 你/ 不/ 說/ 愛我/ 我/ 就/ 喵/ 喵/ 喵/  / 我們/ 一起/ 學/ 貓叫/  / 一起/ 喵/ 喵/ 喵/ 喵/ 喵/  / 我要/ 穿/ 你/ 的/ 外套/  / 聞/ 你/ 身上/ 的/ 味道/  / 想要/ 變成/ 你/ 的貓/  / 賴在/ 你/ 懷裡/ 睡/ 著/  / 每天/ 都/ 貪戀/ 著/ 你/ 的/ 好/ \n",
      "\n"
     ]
    }
   ],
   "source": [
    "import jieba\n",
    "ret = open(\"dataset/cat.txt\", \"r\").read()\n",
    "seglist = jieba.cut(ret, cut_all=False)\n",
    "print(\"精確模式: \" + \"/ \".join(seglist))  # 精確模式"
   ]
  }
 ],
 "metadata": {
  "kernelspec": {
   "display_name": "Python 3",
   "language": "python",
   "name": "python3"
  },
  "language_info": {
   "codemirror_mode": {
    "name": "ipython",
    "version": 3
   },
   "file_extension": ".py",
   "mimetype": "text/x-python",
   "name": "python",
   "nbconvert_exporter": "python",
   "pygments_lexer": "ipython3",
   "version": "3.6.6"
  }
 },
 "nbformat": 4,
 "nbformat_minor": 2
}
